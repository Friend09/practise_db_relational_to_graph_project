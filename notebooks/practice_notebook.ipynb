{
 "cells": [
  {
   "cell_type": "markdown",
   "id": "63819e7f",
   "metadata": {},
   "source": [
    "# migrate to neo4j"
   ]
  },
  {
   "cell_type": "code",
   "execution_count": 64,
   "id": "17913f23",
   "metadata": {},
   "outputs": [],
   "source": [
    "import sqlite3\n",
    "import pandas as pd\n",
    "from neo4j import GraphDatabase\n",
    "import logging\n",
    "import os\n",
    "from dotenv import load_dotenv\n",
    "\n",
    "load_dotenv()\n",
    "\n",
    "logging.basicConfig(level=logging.INFO)\n",
    "logger = logging.getLogger(__name__)"
   ]
  },
  {
   "cell_type": "code",
   "execution_count": null,
   "id": "d18d2f35",
   "metadata": {},
   "outputs": [],
   "source": [
    "class Neo4jMigrator:\n",
    "    def __init__(self, neo4j_uri, neo4j_user, neo4j_password, sqlite_db_path):\n",
    "        self.driver = GraphDatabase.driver(neo4j_uri, auth=(neo4j_user, neo4j_password))\n",
    "        self.sqlite_db_path = sqlite_db_path\n",
    "\n",
    "    def close(self):\n",
    "        self.driver.close()"
   ]
  }
 ],
 "metadata": {
  "kernelspec": {
   "display_name": "practise_db_relational_to_graph_project (3.11.10)",
   "language": "python",
   "name": "python3"
  },
  "language_info": {
   "codemirror_mode": {
    "name": "ipython",
    "version": 3
   },
   "file_extension": ".py",
   "mimetype": "text/x-python",
   "name": "python",
   "nbconvert_exporter": "python",
   "pygments_lexer": "ipython3",
   "version": "3.11.10"
  }
 },
 "nbformat": 4,
 "nbformat_minor": 5
}
