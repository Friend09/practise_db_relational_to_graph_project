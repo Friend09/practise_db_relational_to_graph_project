{
 "cells": [
  {
   "cell_type": "markdown",
   "id": "959b4ea6",
   "metadata": {},
   "source": [
    "# Explore DB"
   ]
  }
 ],
 "metadata": {
  "kernelspec": {
   "display_name": "practise_db_relational_to_graph_project (3.11.10)",
   "language": "python",
   "name": "python3"
  },
  "language_info": {
   "codemirror_mode": {
    "name": "ipython",
    "version": 3
   },
   "file_extension": ".py",
   "mimetype": "text/x-python",
   "name": "python",
   "nbconvert_exporter": "python",
   "pygments_lexer": "ipython3",
   "version": "3.11.10"
  }
 },
 "nbformat": 4,
 "nbformat_minor": 5
}
