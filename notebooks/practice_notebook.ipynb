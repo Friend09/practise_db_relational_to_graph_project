{
 "cells": [
  {
   "cell_type": "markdown",
   "id": "959b4ea6",
   "metadata": {},
   "source": [
    "# create_db.py"
   ]
  },
  {
   "cell_type": "code",
   "execution_count": 2,
   "id": "1aaf8bc6",
   "metadata": {},
   "outputs": [],
   "source": [
    "import sqlite3\n",
    "import pandas as pd"
   ]
  },
  {
   "cell_type": "code",
   "execution_count": null,
   "id": "c009fcf9",
   "metadata": {},
   "outputs": [],
   "source": [
    "def create_and_load_db(db_path, sql_schema_path, csv_data_path):\n",
    "    conn = None\n",
    "    try:\n",
    "        conn = sqlite3.connect(db_path)\n",
    "        cursor = conn.cursor()\n",
    "\n",
    "    with open(sql_schema_path, \"r\") as f:\n",
    "        sql_script = f.read()\n",
    "    cursor.executescript(sql_script)\n",
    "    print(f\"Schema from {sql_schema_path} loaded successfully\")\n",
    "\n",
    "    df = pd.read_csv(csv_data_path)"
   ]
  }
 ],
 "metadata": {
  "kernelspec": {
   "display_name": "practise_db_relational_to_graph_project (3.11.10)",
   "language": "python",
   "name": "python3"
  },
  "language_info": {
   "codemirror_mode": {
    "name": "ipython",
    "version": 3
   },
   "file_extension": ".py",
   "mimetype": "text/x-python",
   "name": "python",
   "nbconvert_exporter": "python",
   "pygments_lexer": "ipython3",
   "version": "3.11.10"
  }
 },
 "nbformat": 4,
 "nbformat_minor": 5
}
